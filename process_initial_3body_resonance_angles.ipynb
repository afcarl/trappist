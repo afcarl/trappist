{
 "cells": [
  {
   "cell_type": "code",
   "execution_count": 1,
   "metadata": {},
   "outputs": [
    {
     "data": {
      "text/html": [
       "<div>\n",
       "<table border=\"1\" class=\"dataframe\">\n",
       "  <thead>\n",
       "    <tr style=\"text-align: right;\">\n",
       "      <th></th>\n",
       "      <th>K</th>\n",
       "      <th>mag</th>\n",
       "      <th>filename</th>\n",
       "    </tr>\n",
       "  </thead>\n",
       "  <tbody>\n",
       "    <tr>\n",
       "      <th>984</th>\n",
       "      <td>28.237</td>\n",
       "      <td>0.076254</td>\n",
       "      <td>IC984K2.8237e+01mag7.6254e-02.bin</td>\n",
       "    </tr>\n",
       "    <tr>\n",
       "      <th>986</th>\n",
       "      <td>201.970</td>\n",
       "      <td>0.052832</td>\n",
       "      <td>IC986K2.0197e+02mag5.2832e-02.bin</td>\n",
       "    </tr>\n",
       "    <tr>\n",
       "      <th>990</th>\n",
       "      <td>914.570</td>\n",
       "      <td>0.006452</td>\n",
       "      <td>IC990K9.1457e+02mag6.4517e-03.bin</td>\n",
       "    </tr>\n",
       "    <tr>\n",
       "      <th>995</th>\n",
       "      <td>53.041</td>\n",
       "      <td>0.903500</td>\n",
       "      <td>IC995K5.3041e+01mag9.0350e-01.bin</td>\n",
       "    </tr>\n",
       "    <tr>\n",
       "      <th>997</th>\n",
       "      <td>77.841</td>\n",
       "      <td>0.530970</td>\n",
       "      <td>IC997K7.7841e+01mag5.3097e-01.bin</td>\n",
       "    </tr>\n",
       "  </tbody>\n",
       "</table>\n",
       "</div>"
      ],
      "text/plain": [
       "           K       mag                           filename\n",
       "984   28.237  0.076254  IC984K2.8237e+01mag7.6254e-02.bin\n",
       "986  201.970  0.052832  IC986K2.0197e+02mag5.2832e-02.bin\n",
       "990  914.570  0.006452  IC990K9.1457e+02mag6.4517e-03.bin\n",
       "995   53.041  0.903500  IC995K5.3041e+01mag9.0350e-01.bin\n",
       "997   77.841  0.530970  IC997K7.7841e+01mag5.3097e-01.bin"
      ]
     },
     "execution_count": 1,
     "metadata": {},
     "output_type": "execute_result"
    }
   ],
   "source": [
    "import rebound\n",
    "import reboundx\n",
    "import numpy as np\n",
    "import sys\n",
    "import os\n",
    "import re\n",
    "import pandas as pd\n",
    "\n",
    "df = pd.DataFrame(columns=('K','mag','filename'))\n",
    "\n",
    "datapath = 'data/'\n",
    "for filename in os.listdir(datapath):\n",
    "    result = re.search(r\"IC(.*)K(.*)mag(.*).bin\", filename)\n",
    "    if result:\n",
    "        simID = int(result.group(1))\n",
    "        K = float(result.group(2))\n",
    "        mag = float(result.group(3))\n",
    "        filename='IC{0}K{1:.4e}mag{2:.4e}.bin'.format(simID, K, mag)\n",
    "        df.loc[simID] = [K,mag,filename]\n",
    "        \n",
    "df = df.sort_index()\n",
    "df.tail()"
   ]
  },
  {
   "cell_type": "code",
   "execution_count": 2,
   "metadata": {
    "collapsed": true
   },
   "outputs": [],
   "source": [
    "from collections import OrderedDict\n",
    "threebodyresonances = OrderedDict([(('b','c','d'),(2,3)),(('c','d','e'),(1,2)),(('d','e','f'),(2,3)),(('e','f','g'),(1,2)),(('f','g','h'),(1,1))])\n",
    "\n",
    "def wrap(val):\n",
    "    while val < 0:\n",
    "        val += 2*np.pi\n",
    "    while val > 2*np.pi:\n",
    "        val -= 2*np.pi\n",
    "    return val*180/np.pi\n",
    "\n",
    "def libration_centers(row):\n",
    "    sa = rebound.SimulationArchive(datapath+row['filename'])\n",
    "    sim = sa[0]\n",
    "    ps = sim.particles\n",
    "    phi = {}\n",
    "    for resonance in threebodyresonances.items():\n",
    "        triad = resonance[0]\n",
    "        p1 = triad[0]\n",
    "        p2 = triad[1]\n",
    "        p3 = triad[2]\n",
    "        res = resonance[1]\n",
    "        p = res[0]\n",
    "        q = res[1]\n",
    "        name = 'phi_'+p1+p2+p3\n",
    "        phi[name] = wrap(p*ps[p1].l - (p+q)*ps[p2].l + q*ps[p3].l)\n",
    "    return pd.Series(phi)"
   ]
  },
  {
   "cell_type": "code",
   "execution_count": 3,
   "metadata": {},
   "outputs": [
    {
     "name": "stderr",
     "output_type": "stream",
     "text": [
      "/mnt/raid-cita/dtamayo/stability/lib/python3.4/site-packages/rebound/simulationarchive.py:63: RuntimeWarning: Binary file was saved with a different version of REBOUND. Binary format might have changed.\n",
      "  warnings.warn(BINARY_WARNINGS[1][0], RuntimeWarning)\n"
     ]
    },
    {
     "name": "stdout",
     "output_type": "stream",
     "text": [
      "CPU times: user 701 ms, sys: 1.97 s, total: 2.68 s\n",
      "Wall time: 5.1 s\n"
     ]
    }
   ],
   "source": [
    "%%time\n",
    "df = pd.concat([df, df.apply(libration_centers, axis=1)], axis=1)\n",
    "df.tail()"
   ]
  },
  {
   "cell_type": "code",
   "execution_count": 4,
   "metadata": {},
   "outputs": [
    {
     "data": {
      "text/html": [
       "<div>\n",
       "<table border=\"1\" class=\"dataframe\">\n",
       "  <thead>\n",
       "    <tr style=\"text-align: right;\">\n",
       "      <th></th>\n",
       "      <th>K</th>\n",
       "      <th>mag</th>\n",
       "      <th>filename</th>\n",
       "      <th>phi_bcd</th>\n",
       "      <th>phi_cde</th>\n",
       "      <th>phi_def</th>\n",
       "      <th>phi_efg</th>\n",
       "      <th>phi_fgh</th>\n",
       "    </tr>\n",
       "  </thead>\n",
       "  <tbody>\n",
       "    <tr>\n",
       "      <th>0</th>\n",
       "      <td>125.210</td>\n",
       "      <td>0.139820</td>\n",
       "      <td>IC0K1.2521e+02mag1.3982e-01.bin</td>\n",
       "      <td>180.942875</td>\n",
       "      <td>178.786975</td>\n",
       "      <td>159.473438</td>\n",
       "      <td>72.594696</td>\n",
       "      <td>184.056444</td>\n",
       "    </tr>\n",
       "    <tr>\n",
       "      <th>2</th>\n",
       "      <td>74.471</td>\n",
       "      <td>0.001196</td>\n",
       "      <td>IC2K7.4471e+01mag1.1961e-03.bin</td>\n",
       "      <td>190.900879</td>\n",
       "      <td>300.483438</td>\n",
       "      <td>153.734757</td>\n",
       "      <td>76.238337</td>\n",
       "      <td>183.543375</td>\n",
       "    </tr>\n",
       "    <tr>\n",
       "      <th>4</th>\n",
       "      <td>859.130</td>\n",
       "      <td>0.043822</td>\n",
       "      <td>IC4K8.5913e+02mag4.3822e-02.bin</td>\n",
       "      <td>205.119741</td>\n",
       "      <td>304.742293</td>\n",
       "      <td>140.799400</td>\n",
       "      <td>79.610096</td>\n",
       "      <td>179.641168</td>\n",
       "    </tr>\n",
       "    <tr>\n",
       "      <th>6</th>\n",
       "      <td>610.550</td>\n",
       "      <td>0.009907</td>\n",
       "      <td>IC6K6.1055e+02mag9.9069e-03.bin</td>\n",
       "      <td>348.877103</td>\n",
       "      <td>5.394857</td>\n",
       "      <td>297.858031</td>\n",
       "      <td>224.000963</td>\n",
       "      <td>143.139271</td>\n",
       "    </tr>\n",
       "    <tr>\n",
       "      <th>7</th>\n",
       "      <td>14.211</td>\n",
       "      <td>0.218650</td>\n",
       "      <td>IC7K1.4211e+01mag2.1865e-01.bin</td>\n",
       "      <td>243.790429</td>\n",
       "      <td>71.575234</td>\n",
       "      <td>120.974760</td>\n",
       "      <td>77.358878</td>\n",
       "      <td>181.352829</td>\n",
       "    </tr>\n",
       "  </tbody>\n",
       "</table>\n",
       "</div>"
      ],
      "text/plain": [
       "         K       mag                         filename     phi_bcd     phi_cde  \\\n",
       "0  125.210  0.139820  IC0K1.2521e+02mag1.3982e-01.bin  180.942875  178.786975   \n",
       "2   74.471  0.001196  IC2K7.4471e+01mag1.1961e-03.bin  190.900879  300.483438   \n",
       "4  859.130  0.043822  IC4K8.5913e+02mag4.3822e-02.bin  205.119741  304.742293   \n",
       "6  610.550  0.009907  IC6K6.1055e+02mag9.9069e-03.bin  348.877103    5.394857   \n",
       "7   14.211  0.218650  IC7K1.4211e+01mag2.1865e-01.bin  243.790429   71.575234   \n",
       "\n",
       "      phi_def     phi_efg     phi_fgh  \n",
       "0  159.473438   72.594696  184.056444  \n",
       "2  153.734757   76.238337  183.543375  \n",
       "4  140.799400   79.610096  179.641168  \n",
       "6  297.858031  224.000963  143.139271  \n",
       "7  120.974760   77.358878  181.352829  "
      ]
     },
     "execution_count": 4,
     "metadata": {},
     "output_type": "execute_result"
    }
   ],
   "source": [
    "df.head()"
   ]
  },
  {
   "cell_type": "code",
   "execution_count": 5,
   "metadata": {
    "collapsed": true
   },
   "outputs": [],
   "source": [
    "df.to_csv(\"csvs/librationcenters.csv\", encoding='ascii')"
   ]
  }
 ],
 "metadata": {
  "kernelspec": {
   "display_name": "Python 3",
   "language": "python",
   "name": "python3"
  },
  "language_info": {
   "codemirror_mode": {
    "name": "ipython",
    "version": 3
   },
   "file_extension": ".py",
   "mimetype": "text/x-python",
   "name": "python",
   "nbconvert_exporter": "python",
   "pygments_lexer": "ipython3",
   "version": "3.4.3"
  }
 },
 "nbformat": 4,
 "nbformat_minor": 2
}
