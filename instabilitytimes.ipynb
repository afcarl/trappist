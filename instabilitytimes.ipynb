{
 "cells": [
  {
   "cell_type": "code",
   "execution_count": 1,
   "metadata": {
    "collapsed": false,
    "deletable": true,
    "editable": true
   },
   "outputs": [
    {
     "data": {
      "text/html": [
       "<div>\n",
       "<table border=\"1\" class=\"dataframe\">\n",
       "  <thead>\n",
       "    <tr style=\"text-align: right;\">\n",
       "      <th></th>\n",
       "      <th>K</th>\n",
       "      <th>mag</th>\n",
       "      <th>filename</th>\n",
       "      <th>tmax</th>\n",
       "      <th>tinstability</th>\n",
       "      <th>Eerr1</th>\n",
       "      <th>Eerrf</th>\n",
       "      <th>tinstability_index</th>\n",
       "      <th>e1b</th>\n",
       "      <th>erms1b</th>\n",
       "      <th>...</th>\n",
       "      <th>phi3bodyfbcd</th>\n",
       "      <th>phi3bodylibampfbcd</th>\n",
       "      <th>phi3bodyfcde</th>\n",
       "      <th>phi3bodylibampfcde</th>\n",
       "      <th>phi3bodyfdef</th>\n",
       "      <th>phi3bodylibampfdef</th>\n",
       "      <th>phi3bodyfefg</th>\n",
       "      <th>phi3bodylibampfefg</th>\n",
       "      <th>phi3bodyffgh</th>\n",
       "      <th>phi3bodylibampffgh</th>\n",
       "    </tr>\n",
       "  </thead>\n",
       "  <tbody>\n",
       "    <tr>\n",
       "      <th>0</th>\n",
       "      <td>125.210</td>\n",
       "      <td>0.139820</td>\n",
       "      <td>IC0K1.2521e+02mag1.3982e-01.bin</td>\n",
       "      <td>50000000.0</td>\n",
       "      <td>5.000000e+07</td>\n",
       "      <td>5.822356e-08</td>\n",
       "      <td>4.967208e-07</td>\n",
       "      <td>NaN</td>\n",
       "      <td>0.002367</td>\n",
       "      <td>0.001243</td>\n",
       "      <td>...</td>\n",
       "      <td>180.382744</td>\n",
       "      <td>355.617873</td>\n",
       "      <td>179.610042</td>\n",
       "      <td>56.246368</td>\n",
       "      <td>158.052173</td>\n",
       "      <td>49.769303</td>\n",
       "      <td>72.373749</td>\n",
       "      <td>35.045178</td>\n",
       "      <td>184.842226</td>\n",
       "      <td>51.288011</td>\n",
       "    </tr>\n",
       "    <tr>\n",
       "      <th>2</th>\n",
       "      <td>74.471</td>\n",
       "      <td>0.001196</td>\n",
       "      <td>IC2K7.4471e+01mag1.1961e-03.bin</td>\n",
       "      <td>50000000.0</td>\n",
       "      <td>5.000000e+07</td>\n",
       "      <td>3.297564e-07</td>\n",
       "      <td>2.164101e-07</td>\n",
       "      <td>NaN</td>\n",
       "      <td>0.000855</td>\n",
       "      <td>0.000229</td>\n",
       "      <td>...</td>\n",
       "      <td>-169.450790</td>\n",
       "      <td>10.080476</td>\n",
       "      <td>-58.951869</td>\n",
       "      <td>1.184578</td>\n",
       "      <td>153.517688</td>\n",
       "      <td>2.093642</td>\n",
       "      <td>76.372666</td>\n",
       "      <td>1.322239</td>\n",
       "      <td>-176.726361</td>\n",
       "      <td>1.274744</td>\n",
       "    </tr>\n",
       "    <tr>\n",
       "      <th>4</th>\n",
       "      <td>859.130</td>\n",
       "      <td>0.043822</td>\n",
       "      <td>IC4K8.5913e+02mag4.3822e-02.bin</td>\n",
       "      <td>50000000.0</td>\n",
       "      <td>5.000000e+07</td>\n",
       "      <td>3.569262e-08</td>\n",
       "      <td>5.113791e-04</td>\n",
       "      <td>NaN</td>\n",
       "      <td>0.001009</td>\n",
       "      <td>0.000329</td>\n",
       "      <td>...</td>\n",
       "      <td>169.973459</td>\n",
       "      <td>357.113861</td>\n",
       "      <td>179.886173</td>\n",
       "      <td>358.636690</td>\n",
       "      <td>0.580709</td>\n",
       "      <td>357.695611</td>\n",
       "      <td>4.291293</td>\n",
       "      <td>327.054454</td>\n",
       "      <td>173.281072</td>\n",
       "      <td>354.739737</td>\n",
       "    </tr>\n",
       "    <tr>\n",
       "      <th>6</th>\n",
       "      <td>610.550</td>\n",
       "      <td>0.009907</td>\n",
       "      <td>IC6K6.1055e+02mag9.9069e-03.bin</td>\n",
       "      <td>50000000.0</td>\n",
       "      <td>2.869029e+06</td>\n",
       "      <td>2.234090e-06</td>\n",
       "      <td>8.162635e-01</td>\n",
       "      <td>2869.0</td>\n",
       "      <td>0.006052</td>\n",
       "      <td>0.003035</td>\n",
       "      <td>...</td>\n",
       "      <td>180.274521</td>\n",
       "      <td>358.640732</td>\n",
       "      <td>-2.571699</td>\n",
       "      <td>358.912876</td>\n",
       "      <td>1.139761</td>\n",
       "      <td>356.951838</td>\n",
       "      <td>185.133703</td>\n",
       "      <td>358.359138</td>\n",
       "      <td>182.348677</td>\n",
       "      <td>358.503196</td>\n",
       "    </tr>\n",
       "    <tr>\n",
       "      <th>7</th>\n",
       "      <td>14.211</td>\n",
       "      <td>0.218653</td>\n",
       "      <td>IC7K1.4211e+01mag2.1865e-01.bin</td>\n",
       "      <td>50000000.0</td>\n",
       "      <td>5.000000e+07</td>\n",
       "      <td>3.204928e-08</td>\n",
       "      <td>1.226401e-03</td>\n",
       "      <td>NaN</td>\n",
       "      <td>0.029537</td>\n",
       "      <td>0.015570</td>\n",
       "      <td>...</td>\n",
       "      <td>185.006130</td>\n",
       "      <td>357.093692</td>\n",
       "      <td>181.962024</td>\n",
       "      <td>356.578029</td>\n",
       "      <td>181.513752</td>\n",
       "      <td>348.597249</td>\n",
       "      <td>-0.887433</td>\n",
       "      <td>316.885252</td>\n",
       "      <td>2.258131</td>\n",
       "      <td>359.470056</td>\n",
       "    </tr>\n",
       "  </tbody>\n",
       "</table>\n",
       "<p>5 rows × 104 columns</p>\n",
       "</div>"
      ],
      "text/plain": [
       "         K       mag                         filename        tmax  \\\n",
       "0  125.210  0.139820  IC0K1.2521e+02mag1.3982e-01.bin  50000000.0   \n",
       "2   74.471  0.001196  IC2K7.4471e+01mag1.1961e-03.bin  50000000.0   \n",
       "4  859.130  0.043822  IC4K8.5913e+02mag4.3822e-02.bin  50000000.0   \n",
       "6  610.550  0.009907  IC6K6.1055e+02mag9.9069e-03.bin  50000000.0   \n",
       "7   14.211  0.218653  IC7K1.4211e+01mag2.1865e-01.bin  50000000.0   \n",
       "\n",
       "   tinstability         Eerr1         Eerrf  tinstability_index       e1b  \\\n",
       "0  5.000000e+07  5.822356e-08  4.967208e-07                 NaN  0.002367   \n",
       "2  5.000000e+07  3.297564e-07  2.164101e-07                 NaN  0.000855   \n",
       "4  5.000000e+07  3.569262e-08  5.113791e-04                 NaN  0.001009   \n",
       "6  2.869029e+06  2.234090e-06  8.162635e-01              2869.0  0.006052   \n",
       "7  5.000000e+07  3.204928e-08  1.226401e-03                 NaN  0.029537   \n",
       "\n",
       "     erms1b         ...          phi3bodyfbcd  phi3bodylibampfbcd  \\\n",
       "0  0.001243         ...            180.382744          355.617873   \n",
       "2  0.000229         ...           -169.450790           10.080476   \n",
       "4  0.000329         ...            169.973459          357.113861   \n",
       "6  0.003035         ...            180.274521          358.640732   \n",
       "7  0.015570         ...            185.006130          357.093692   \n",
       "\n",
       "   phi3bodyfcde  phi3bodylibampfcde  phi3bodyfdef  phi3bodylibampfdef  \\\n",
       "0    179.610042           56.246368    158.052173           49.769303   \n",
       "2    -58.951869            1.184578    153.517688            2.093642   \n",
       "4    179.886173          358.636690      0.580709          357.695611   \n",
       "6     -2.571699          358.912876      1.139761          356.951838   \n",
       "7    181.962024          356.578029    181.513752          348.597249   \n",
       "\n",
       "   phi3bodyfefg  phi3bodylibampfefg  phi3bodyffgh  phi3bodylibampffgh  \n",
       "0     72.373749           35.045178    184.842226           51.288011  \n",
       "2     76.372666            1.322239   -176.726361            1.274744  \n",
       "4      4.291293          327.054454    173.281072          354.739737  \n",
       "6    185.133703          358.359138    182.348677          358.503196  \n",
       "7     -0.887433          316.885252      2.258131          359.470056  \n",
       "\n",
       "[5 rows x 104 columns]"
      ]
     },
     "execution_count": 1,
     "metadata": {},
     "output_type": "execute_result"
    }
   ],
   "source": [
    "import pandas as pd\n",
    "import numpy as np\n",
    "import os\n",
    "\n",
    "import pandas as pd\n",
    "df = pd.read_csv(\"csvs/dataICdistribution.csv\", index_col=0)\n",
    "df.head()"
   ]
  },
  {
   "cell_type": "code",
   "execution_count": 2,
   "metadata": {
    "collapsed": true,
    "deletable": true,
    "editable": true
   },
   "outputs": [],
   "source": [
    "N=df.shape[0]\n",
    "ts = np.sort(df['tinstability'])\n",
    "cumsum = np.zeros(N)\n",
    "tot = 0.\n",
    "for i,t in enumerate(ts):\n",
    "    if t < 5.e6:\n",
    "        tot += 1.\n",
    "    if t > 5.e6 and t < 5.e7:\n",
    "        tot += N/21\n",
    "    cumsum[i] = tot/N"
   ]
  },
  {
   "cell_type": "code",
   "execution_count": 3,
   "metadata": {
    "collapsed": false,
    "deletable": true,
    "editable": true
   },
   "outputs": [],
   "source": [
    "dfnr = pd.read_csv('csvs/datanonresupdated.csv', index_col=0)\n",
    "dfnr.head()\n",
    "Nnr=dfnr.shape[0]\n",
    "tsnr = np.sort(dfnr['tinstability'])\n",
    "cumsumnr = np.zeros(Nnr)\n",
    "tot = 0.\n",
    "for i,t in enumerate(tsnr):\n",
    "    if t < 5.e6:\n",
    "        tot += 1.\n",
    "    cumsumnr[i] = tot/N"
   ]
  },
  {
   "cell_type": "code",
   "execution_count": 9,
   "metadata": {
    "collapsed": false,
    "deletable": true,
    "editable": true
   },
   "outputs": [
    {
     "data": {
      "image/png": "[encoded data removed]",
      "text/plain": [
       "<matplotlib.figure.Figure at 0x7fd7d0a9dac8>"
      ]
     },
     "metadata": {},
     "output_type": "display_data"
    }
   ],
   "source": [
    "%matplotlib inline\n",
    "import matplotlib.pyplot as plt\n",
    "#plt.style.use('paper')\n",
    "\n",
    "fig, ax = plt.subplots(figsize=(5,3.5))\n",
    "ax.plot(ts,cumsum, lw=3, label='Migrated into Resonance')\n",
    "ax.plot(tsnr, cumsumnr, lw=3,label='Drawn from Gillon et al. (2017)')\n",
    "ax.set_xscale('log')\n",
    "ax.set_ylim([0,0.5])\n",
    "ax.set_xlim([1e3,5e6])\n",
    "ax.set_xlabel('Instability Time (yrs)')\n",
    "ax.set_ylabel('Cumulative Fraction of Systems')\n",
    "ax.legend()\n",
    "fig.savefig('instabilitytimes.pdf', bbox_inches='tight')"
   ]
  },
  {
   "cell_type": "code",
   "execution_count": 10,
   "metadata": {
    "collapsed": false,
    "deletable": true,
    "editable": true
   },
   "outputs": [
    {
     "data": {
      "image/png": "[encoded data removed]",
      "text/plain": [
       "<matplotlib.figure.Figure at 0x111eedef0>"
      ]
     },
     "metadata": {},
     "output_type": "display_data"
    }
   ],
   "source": [
    "%matplotlib inline\n",
    "import matplotlib.pyplot as plt\n",
    "#plt.style.use('paper')\n",
    "\n",
    "fig, ax = plt.subplots(figsize=(5,3.5))\n",
    "ax.plot(ts,cumsum, lw=3, label='Disk Migration')\n",
    "ax.plot(tsnr, cumsumnr, lw=3,label='Gillon et al. (2017)')\n",
    "ax.set_xscale('log')\n",
    "ax.set_ylim([0,0.5])\n",
    "ax.set_xlim([1e3,5e7])\n",
    "ax.set_xlabel('Instability Time (yrs)')\n",
    "ax.set_ylabel('Cumulative Fraction of unstable systems')\n",
    "ax.legend()\n",
    "fig.savefig('instabilitytimes.pdf', bbox_inches='tight')"
   ]
  },
  {
   "cell_type": "code",
   "execution_count": null,
   "metadata": {
    "collapsed": true,
    "deletable": true,
    "editable": true
   },
   "outputs": [],
   "source": [
    "for i, resonance in enumerate(resonances.items()):\n",
    "    pair = resonance[0]\n",
    "    res = resonance[1]\n",
    "    resratio = res[0]/res[1]\n",
    "    \n",
    "    bins = np.linspace(0, xlim, Nbins, endpoint=True)\n",
    "    hist, bins = np.histogram(df['Pratiof'+str(pair[0])+str(pair[1])]-resratio, bins=bins)\n",
    "    center = (bins[:-1] + bins[1:]) / 2\n",
    "    bar = ax.bar(center, hist, align='center', width=np.diff(bins), bottom=maxbintotal, label=pair)\n",
    "    \n",
    "    ax.axvline(Pratio_obs[pair]-resratio, ymin=maxbintotal/height, ymax = (maxbintotal + hist.max())/height, color=bar.patches[0].get_facecolor())\n",
    "    maxbintotal+=hist.max()\n",
    "    "
   ]
  },
  {
   "cell_type": "code",
   "execution_count": 19,
   "metadata": {
    "collapsed": false,
    "deletable": true,
    "editable": true
   },
   "outputs": [
    {
     "data": {
      "text/plain": [
       "368"
      ]
     },
     "execution_count": 19,
     "metadata": {},
     "output_type": "execute_result"
    }
   ],
   "source": [
    "df['tinstability'].shape[0]"
   ]
  },
  {
   "cell_type": "code",
   "execution_count": 22,
   "metadata": {
    "collapsed": false,
    "deletable": true,
    "editable": true
   },
   "outputs": [
    {
     "data": {
      "text/plain": [
       "array([ 0.18478261,  0.0625    ,  0.02173913,  0.01630435,  0.0326087 ,\n",
       "        0.04891304,  0.05163043])"
      ]
     },
     "execution_count": 22,
     "metadata": {},
     "output_type": "execute_result"
    }
   ],
   "source": [
    "hist/368"
   ]
  },
  {
   "cell_type": "code",
   "execution_count": 6,
   "metadata": {
    "collapsed": false,
    "deletable": true,
    "editable": true
   },
   "outputs": [
    {
     "data": {
      "image/png": "[encoded data removed]",
      "text/plain": [
       "<matplotlib.figure.Figure at 0x7fd7cf9616d8>"
      ]
     },
     "metadata": {},
     "output_type": "display_data"
    }
   ],
   "source": [
    "%matplotlib inline\n",
    "import matplotlib.pyplot as plt\n",
    "\n",
    "fig, ax = plt.subplots(figsize=(5,3.5))\n",
    "\n",
    "Nbins = 8\n",
    "bins = np.logspace(3, np.log10(5e6), Nbins)\n",
    "center = (bins[:-1] + bins[1:]) / 2\n",
    "hist, bins = np.histogram(dfnr['tinstability'], bins=bins)\n",
    "hist = hist/dfnr['tinstability'].shape[0]\n",
    "bar = ax.bar(center, hist, align='center', width=np.diff(bins), label='Gillon 2017')\n",
    "\n",
    "hist, bins = np.histogram(df['tinstability'], bins=bins)\n",
    "hist = hist/df['tinstability'].shape[0]\n",
    "bar = ax.bar(center, hist, align='center', width=np.diff(bins), color='red', label='Disk Migration')\n",
    "\n",
    "#ax.plot(ts,cumsum, lw=3, label='Disk Migration')\n",
    "#ax.plot(tsnr, cumsumnr, lw=3,label='Gillon et al. (2017)')\n",
    "ax.set_xscale('log')\n",
    "#ax.set_ylim([0,0.5])\n",
    "#ax.set_xlim([1e3,5e7])\n",
    "ax.set_xlabel('Instability Time (yrs)')\n",
    "ax.set_ylabel('Cumulative Fraction of unstable systems')\n",
    "ax.legend()\n",
    "fig.savefig('instabilitytimes.pdf', bbox_inches='tight')"
   ]
  },
  {
   "cell_type": "code",
   "execution_count": null,
   "metadata": {
    "collapsed": true,
    "deletable": true,
    "editable": true
   },
   "outputs": [],
   "source": []
  }
 ],
 "metadata": {
  "kernelspec": {
   "display_name": "Python 3",
   "language": "python",
   "name": "python3"
  },
  "language_info": {
   "codemirror_mode": {
    "name": "ipython",
    "version": 3
   },
   "file_extension": ".py",
   "mimetype": "text/x-python",
   "name": "python",
   "nbconvert_exporter": "python",
   "pygments_lexer": "ipython3",
   "version": "3.4.3"
  }
 },
 "nbformat": 4,
 "nbformat_minor": 2
}
