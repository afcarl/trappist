{
 "cells": [
  {
   "cell_type": "code",
   "execution_count": 1,
   "metadata": {
    "collapsed": true
   },
   "outputs": [],
   "source": [
    "import pandas as pd\n",
    "import numpy as np"
   ]
  },
  {
   "cell_type": "code",
   "execution_count": 2,
   "metadata": {},
   "outputs": [
    {
     "data": {
      "text/html": [
       "<div>\n",
       "<table border=\"1\" class=\"dataframe\">\n",
       "  <thead>\n",
       "    <tr style=\"text-align: right;\">\n",
       "      <th></th>\n",
       "      <th>K</th>\n",
       "      <th>mag</th>\n",
       "      <th>filename</th>\n",
       "      <th>phi_bcd</th>\n",
       "      <th>phi_cde</th>\n",
       "      <th>phi_def</th>\n",
       "      <th>phi_efg</th>\n",
       "      <th>phi_fgh</th>\n",
       "    </tr>\n",
       "  </thead>\n",
       "  <tbody>\n",
       "    <tr>\n",
       "      <th>0</th>\n",
       "      <td>125.210</td>\n",
       "      <td>0.139820</td>\n",
       "      <td>IC0K1.2521e+02mag1.3982e-01.bin</td>\n",
       "      <td>180.942875</td>\n",
       "      <td>178.786975</td>\n",
       "      <td>159.473438</td>\n",
       "      <td>72.594696</td>\n",
       "      <td>184.056444</td>\n",
       "    </tr>\n",
       "    <tr>\n",
       "      <th>2</th>\n",
       "      <td>74.471</td>\n",
       "      <td>0.001196</td>\n",
       "      <td>IC2K7.4471e+01mag1.1961e-03.bin</td>\n",
       "      <td>190.900879</td>\n",
       "      <td>300.483438</td>\n",
       "      <td>153.734757</td>\n",
       "      <td>76.238337</td>\n",
       "      <td>183.543375</td>\n",
       "    </tr>\n",
       "    <tr>\n",
       "      <th>4</th>\n",
       "      <td>859.130</td>\n",
       "      <td>0.043822</td>\n",
       "      <td>IC4K8.5913e+02mag4.3822e-02.bin</td>\n",
       "      <td>205.119741</td>\n",
       "      <td>304.742293</td>\n",
       "      <td>140.799400</td>\n",
       "      <td>79.610096</td>\n",
       "      <td>179.641168</td>\n",
       "    </tr>\n",
       "    <tr>\n",
       "      <th>6</th>\n",
       "      <td>610.550</td>\n",
       "      <td>0.009907</td>\n",
       "      <td>IC6K6.1055e+02mag9.9069e-03.bin</td>\n",
       "      <td>348.877103</td>\n",
       "      <td>5.394857</td>\n",
       "      <td>297.858031</td>\n",
       "      <td>224.000963</td>\n",
       "      <td>143.139271</td>\n",
       "    </tr>\n",
       "    <tr>\n",
       "      <th>7</th>\n",
       "      <td>14.211</td>\n",
       "      <td>0.218650</td>\n",
       "      <td>IC7K1.4211e+01mag2.1865e-01.bin</td>\n",
       "      <td>243.790429</td>\n",
       "      <td>71.575234</td>\n",
       "      <td>120.974760</td>\n",
       "      <td>77.358878</td>\n",
       "      <td>181.352829</td>\n",
       "    </tr>\n",
       "  </tbody>\n",
       "</table>\n",
       "</div>"
      ],
      "text/plain": [
       "         K       mag                         filename     phi_bcd     phi_cde  \\\n",
       "0  125.210  0.139820  IC0K1.2521e+02mag1.3982e-01.bin  180.942875  178.786975   \n",
       "2   74.471  0.001196  IC2K7.4471e+01mag1.1961e-03.bin  190.900879  300.483438   \n",
       "4  859.130  0.043822  IC4K8.5913e+02mag4.3822e-02.bin  205.119741  304.742293   \n",
       "6  610.550  0.009907  IC6K6.1055e+02mag9.9069e-03.bin  348.877103    5.394857   \n",
       "7   14.211  0.218650  IC7K1.4211e+01mag2.1865e-01.bin  243.790429   71.575234   \n",
       "\n",
       "      phi_def     phi_efg     phi_fgh  \n",
       "0  159.473438   72.594696  184.056444  \n",
       "2  153.734757   76.238337  183.543375  \n",
       "4  140.799400   79.610096  179.641168  \n",
       "6  297.858031  224.000963  143.139271  \n",
       "7  120.974760   77.358878  181.352829  "
      ]
     },
     "execution_count": 2,
     "metadata": {},
     "output_type": "execute_result"
    }
   ],
   "source": [
    "df = pd.read_csv('csvs/librationcenters.csv', index_col=0)\n",
    "df.head()"
   ]
  },
  {
   "cell_type": "code",
   "execution_count": 3,
   "metadata": {},
   "outputs": [
    {
     "data": {
      "text/plain": [
       "<matplotlib.legend.Legend at 0x7f2d1eb0b588>"
      ]
     },
     "execution_count": 3,
     "metadata": {},
     "output_type": "execute_result"
    },
    {
     "data": {
      "image/png": "[encoded data removed]",
      "text/plain": [
       "<matplotlib.figure.Figure at 0x7f2d1d2052e8>"
      ]
     },
     "metadata": {},
     "output_type": "display_data"
    }
   ],
   "source": [
    "%matplotlib inline\n",
    "import matplotlib.pyplot as plt\n",
    "from collections import OrderedDict\n",
    "threebodyresonances = OrderedDict([(('b','c','d'),(2,3)),(('c','d','e'),(1,2)),(('d','e','f'),(2,3)),(('e','f','g'),(1,2)),(('f','g','h'),(1,1))])\n",
    "\n",
    "fig, ax = plt.subplots()\n",
    "\n",
    "luger_ranges = {('b','c','d'):[182, 184], ('c','d','e'):[310, 313], ('d','e','f'):[142,154], ('e','f','g'):[72,79], ('f','g','h'):[182.5,183.5]}\n",
    "for i, resonance in enumerate(threebodyresonances.items()):\n",
    "    triad = resonance[0]\n",
    "    p1 = triad[0]\n",
    "    p2 = triad[1]\n",
    "    p3 = triad[2]\n",
    "    name = p1+p2+p3\n",
    "    \n",
    "    hist, bins = np.histogram(df['phi_'+name], bins=10)\n",
    "    width = bins[1] - bins[0]\n",
    "    center = (bins[:-1] + bins[1:]) / 2\n",
    "    bar = ax.barh(center, hist, align='center', height=width, left=200*i, label=name)\n",
    "    minluger = luger_ranges[triad][0]\n",
    "    maxluger = luger_ranges[triad][1]\n",
    "\n",
    "    ax.plot([200*i, 200*(i+1)], [minluger, minluger], color=bar[-1].get_facecolor(), linestyle='--', lw=3)\n",
    "    ax.plot([200*i, 200*(i+1)], [maxluger, maxluger], color=bar[-1].get_facecolor(), linestyle='--', lw=3)\n",
    "\n",
    "\n",
    "ax.set_ylim([0,360])\n",
    "#ax.set_xlim([0,350])\n",
    "\n",
    "ax.set_ylabel('3-body Resonant Angle')\n",
    "ax.set_xlabel('Histogram (offset)')\n",
    "ax.legend()"
   ]
  },
  {
   "cell_type": "code",
   "execution_count": 4,
   "metadata": {
    "collapsed": true
   },
   "outputs": [],
   "source": [
    "fig.savefig(\"fig2.pdf\", bbox_inches='tight')"
   ]
  }
 ],
 "metadata": {
  "kernelspec": {
   "display_name": "Python 3",
   "language": "python",
   "name": "python3"
  },
  "language_info": {
   "codemirror_mode": {
    "name": "ipython",
    "version": 3
   },
   "file_extension": ".py",
   "mimetype": "text/x-python",
   "name": "python",
   "nbconvert_exporter": "python",
   "pygments_lexer": "ipython3",
   "version": "3.4.3"
  }
 },
 "nbformat": 4,
 "nbformat_minor": 2
}
