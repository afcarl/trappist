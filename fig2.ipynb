{
 "cells": [
  {
   "cell_type": "code",
   "execution_count": 1,
   "metadata": {
    "collapsed": false,
    "deletable": true,
    "editable": true
   },
   "outputs": [
    {
     "data": {
      "text/html": [
       "<div>\n",
       "<table border=\"1\" class=\"dataframe\">\n",
       "  <thead>\n",
       "    <tr style=\"text-align: right;\">\n",
       "      <th></th>\n",
       "      <th>K</th>\n",
       "      <th>mag</th>\n",
       "      <th>filename</th>\n",
       "      <th>tmax</th>\n",
       "      <th>tinstability</th>\n",
       "      <th>Eerr1</th>\n",
       "      <th>Eerrf</th>\n",
       "      <th>tinstability_index</th>\n",
       "    </tr>\n",
       "  </thead>\n",
       "  <tbody>\n",
       "    <tr>\n",
       "      <th>0</th>\n",
       "      <td>125.210</td>\n",
       "      <td>0.139820</td>\n",
       "      <td>IC0K1.2521e+02mag1.3982e-01.bin</td>\n",
       "      <td>50000000.0</td>\n",
       "      <td>5.000000e+07</td>\n",
       "      <td>5.822356e-08</td>\n",
       "      <td>4.967208e-07</td>\n",
       "      <td>NaN</td>\n",
       "    </tr>\n",
       "    <tr>\n",
       "      <th>2</th>\n",
       "      <td>74.471</td>\n",
       "      <td>0.001196</td>\n",
       "      <td>IC2K7.4471e+01mag1.1961e-03.bin</td>\n",
       "      <td>50000000.0</td>\n",
       "      <td>5.000000e+07</td>\n",
       "      <td>3.297564e-07</td>\n",
       "      <td>2.164101e-07</td>\n",
       "      <td>NaN</td>\n",
       "    </tr>\n",
       "    <tr>\n",
       "      <th>4</th>\n",
       "      <td>859.130</td>\n",
       "      <td>0.043822</td>\n",
       "      <td>IC4K8.5913e+02mag4.3822e-02.bin</td>\n",
       "      <td>50000000.0</td>\n",
       "      <td>5.000000e+07</td>\n",
       "      <td>3.569262e-08</td>\n",
       "      <td>5.113791e-04</td>\n",
       "      <td>NaN</td>\n",
       "    </tr>\n",
       "    <tr>\n",
       "      <th>6</th>\n",
       "      <td>610.550</td>\n",
       "      <td>0.009907</td>\n",
       "      <td>IC6K6.1055e+02mag9.9069e-03.bin</td>\n",
       "      <td>50000000.0</td>\n",
       "      <td>2.869029e+06</td>\n",
       "      <td>2.234090e-06</td>\n",
       "      <td>8.162635e-01</td>\n",
       "      <td>2869.0</td>\n",
       "    </tr>\n",
       "    <tr>\n",
       "      <th>7</th>\n",
       "      <td>14.211</td>\n",
       "      <td>0.218650</td>\n",
       "      <td>IC7K1.4211e+01mag2.1865e-01.bin</td>\n",
       "      <td>50000000.0</td>\n",
       "      <td>5.000000e+07</td>\n",
       "      <td>3.204928e-08</td>\n",
       "      <td>1.226401e-03</td>\n",
       "      <td>NaN</td>\n",
       "    </tr>\n",
       "  </tbody>\n",
       "</table>\n",
       "</div>"
      ],
      "text/plain": [
       "         K       mag                         filename        tmax  \\\n",
       "0  125.210  0.139820  IC0K1.2521e+02mag1.3982e-01.bin  50000000.0   \n",
       "2   74.471  0.001196  IC2K7.4471e+01mag1.1961e-03.bin  50000000.0   \n",
       "4  859.130  0.043822  IC4K8.5913e+02mag4.3822e-02.bin  50000000.0   \n",
       "6  610.550  0.009907  IC6K6.1055e+02mag9.9069e-03.bin  50000000.0   \n",
       "7   14.211  0.218650  IC7K1.4211e+01mag2.1865e-01.bin  50000000.0   \n",
       "\n",
       "   tinstability         Eerr1         Eerrf  tinstability_index  \n",
       "0  5.000000e+07  5.822356e-08  4.967208e-07                 NaN  \n",
       "2  5.000000e+07  3.297564e-07  2.164101e-07                 NaN  \n",
       "4  5.000000e+07  3.569262e-08  5.113791e-04                 NaN  \n",
       "6  2.869029e+06  2.234090e-06  8.162635e-01              2869.0  \n",
       "7  5.000000e+07  3.204928e-08  1.226401e-03                 NaN  "
      ]
     },
     "execution_count": 1,
     "metadata": {},
     "output_type": "execute_result"
    }
   ],
   "source": [
    "import pandas as pd\n",
    "import numpy as np\n",
    "import os\n",
    "\n",
    "import pandas as pd\n",
    "df = pd.read_csv(\"csvs/instabilitytimes.csv\", index_col=0)\n",
    "df.head()"
   ]
  },
  {
   "cell_type": "code",
   "execution_count": 2,
   "metadata": {
    "collapsed": true,
    "deletable": true,
    "editable": true
   },
   "outputs": [],
   "source": [
    "N=df.shape[0]\n",
    "ts = np.sort(df['tinstability'])\n",
    "cumsum = np.zeros(N)\n",
    "tot = 0.\n",
    "for i,t in enumerate(ts):\n",
    "    if t < 5.e6:\n",
    "        tot += 1.\n",
    "    if t > 5.e6 and t < 5.e7:\n",
    "        tot += N/21\n",
    "    cumsum[i] = tot/N"
   ]
  },
  {
   "cell_type": "code",
   "execution_count": 3,
   "metadata": {
    "collapsed": false,
    "deletable": true,
    "editable": true
   },
   "outputs": [],
   "source": [
    "dfnr = pd.read_csv('csvs/nonresinstabilitytimes.csv', index_col=0)\n",
    "dfnr.head()\n",
    "Nnr=dfnr.shape[0]\n",
    "tsnr = np.sort(dfnr['tinstability'])\n",
    "cumsumnr = np.zeros(Nnr)\n",
    "tot = 0.\n",
    "for i,t in enumerate(tsnr):\n",
    "    if t < 5.e6:\n",
    "        tot += 1.\n",
    "    cumsumnr[i] = tot/N"
   ]
  },
  {
   "cell_type": "code",
   "execution_count": 4,
   "metadata": {
    "collapsed": false,
    "deletable": true,
    "editable": true
   },
   "outputs": [
    {
     "data": {
      "image/png": "[encoded data removed]",
      "text/plain": [
       "<matplotlib.figure.Figure at 0x7fd137443908>"
      ]
     },
     "metadata": {},
     "output_type": "display_data"
    }
   ],
   "source": [
    "%matplotlib inline\n",
    "import matplotlib.pyplot as plt\n",
    "#plt.style.use('paper')\n",
    "\n",
    "fig, ax = plt.subplots(figsize=(5,3.5))\n",
    "ax.plot(ts,cumsum, lw=3, label='Migrated into Resonance')\n",
    "ax.plot(tsnr, cumsumnr, lw=3,label='Drawn from Gillon et al. (2017)')\n",
    "ax.set_xscale('log')\n",
    "ax.set_ylim([0,0.5])\n",
    "ax.set_xlim([1e3,5e6])\n",
    "ax.set_xlabel('Instability Time (yrs)')\n",
    "ax.set_ylabel('Cumulative Fraction of Systems')\n",
    "ax.legend()\n",
    "fig.savefig('instabilitytimes.pdf', bbox_inches='tight')"
   ]
  }
 ],
 "metadata": {
  "kernelspec": {
   "display_name": "Python 3",
   "language": "python",
   "name": "python3"
  },
  "language_info": {
   "codemirror_mode": {
    "name": "ipython",
    "version": 3
   },
   "file_extension": ".py",
   "mimetype": "text/x-python",
   "name": "python",
   "nbconvert_exporter": "python",
   "pygments_lexer": "ipython3",
   "version": "3.4.3"
  }
 },
 "nbformat": 4,
 "nbformat_minor": 2
}
